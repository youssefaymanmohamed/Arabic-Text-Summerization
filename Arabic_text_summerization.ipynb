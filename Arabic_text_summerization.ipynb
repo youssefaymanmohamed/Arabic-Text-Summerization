{
  "cells": [
    {
      "cell_type": "markdown",
      "metadata": {
        "id": "9u-E2zEsF5ju"
      },
      "source": [
        "## Final-Project\n",
        "- Name: Youssef Ayman Mohamed\n",
        "- Reg.No: 211000348"
      ]
    },
    {
      "cell_type": "markdown",
      "metadata": {
        "id": "ODH8EgaqF5jx"
      },
      "source": [
        "## Table Of Content"
      ]
    },
    {
      "cell_type": "markdown",
      "metadata": {},
      "source": [
        "- [Import necessary libraries](#Import-necessary-libraries)\n",
        "- [Useful Utilities](#Useful-Utilities)\n",
        "- [Load dataset](#Load-dataset)\n",
        "- [Model](#Model)\n",
        "- [Save the model](#Save-the-model)\n",
        "- [User testing and interface](#User-testing-and-interface)"
      ]
    },
    {
      "cell_type": "markdown",
      "metadata": {
        "id": "RqZCeNONF5jy"
      },
      "source": [
        "## Import nessesary libraries"
      ]
    },
    {
      "cell_type": "code",
      "execution_count": 1,
      "metadata": {
        "id": "5QhVG2umF5jy"
      },
      "outputs": [
        {
          "name": "stderr",
          "output_type": "stream",
          "text": [
            "c:\\Users\\youss\\.conda\\envs\\NLP\\lib\\site-packages\\tqdm\\auto.py:21: TqdmWarning: IProgress not found. Please update jupyter and ipywidgets. See https://ipywidgets.readthedocs.io/en/stable/user_install.html\n",
            "  from .autonotebook import tqdm as notebook_tqdm\n"
          ]
        }
      ],
      "source": [
        "import json\n",
        "from transformers import AutoTokenizer, AutoModelForSeq2SeqLM, AutoConfig\n",
        "from torch.utils.data import Dataset, DataLoader\n",
        "import torch\n",
        "from torch.utils.data import Dataset, DataLoader\n",
        "#from transformers import AutoTokenizer, MBartForConditionalGeneration\n",
        "from sklearn.model_selection import train_test_split\n",
        "import matplotlib.pyplot as plt\n",
        "import seaborn as sns\n",
        "import gradio as gr\n",
        "import dill "
      ]
    },
    {
      "cell_type": "code",
      "execution_count": 2,
      "metadata": {},
      "outputs": [],
      "source": [
        "# Load using dill\n",
        "with open('model.dill', 'rb') as f:\n",
        "    model = dill.load(f)\n"
      ]
    },
    {
      "cell_type": "markdown",
      "metadata": {
        "id": "LrK3D4oQF5jz"
      },
      "source": [
        "## Useful Utilities"
      ]
    },
    {
      "cell_type": "code",
      "execution_count": 44,
      "metadata": {
        "id": "7weAxIJpF5j0"
      },
      "outputs": [],
      "source": [
        "# class to load data from json file and convert it to a dataset object    notice: this dataset is a cleaned dataset called arbml/AraSum but filtered in a github repository\n",
        "class LabeledDataset(Dataset):\n",
        "    def __init__(self, data):\n",
        "        self.data = data\n",
        "        self.tokenizer = AutoTokenizer.from_pretrained('moussaKam/AraBART')  # load the tokenizer of the model to encode the data to the model format \n",
        "\n",
        "\n",
        "    def __len__(self):\n",
        "        return len(self.data)\n",
        "\n",
        "    def __getitem__(self, index): # this function is used to get the data of a specific index in the dataset \n",
        "        example_id, paragraph, summary = self.data[index]\n",
        "        inputs = self.tokenizer.encode_plus(paragraph, truncation=True, padding='max_length', max_length=512,\n",
        "                                            return_tensors='pt')\n",
        "        labels = self.tokenizer.encode_plus(summary, truncation=True, padding='max_length', max_length=110,\n",
        "                                            return_tensors='pt')\n",
        "        return {\n",
        "            'input_ids': inputs['input_ids'].squeeze().numpy().tolist(),\n",
        "            'attention_mask': inputs['attention_mask'].squeeze().numpy().tolist(),\n",
        "            'labels': labels['input_ids'].squeeze().numpy().tolist()\n",
        "        }\n"
      ]
    },
    {
      "cell_type": "code",
      "execution_count": 61,
      "metadata": {
        "id": "eTJzVYHnF5j0"
      },
      "outputs": [],
      "source": [
        "def load_labeled_dataset(file_path): # this function is used to load the data from a json file and return it as a list of tuples \n",
        "    dataset = []\n",
        "    with open(file_path, 'r', encoding='utf-8') as file: \n",
        "        for line in file:   # read the file line by line and convert it to a list of tuples\n",
        "            data = json.loads(line)\n",
        "            paragraph = data['paragraph']\n",
        "            summary = data['summary']\n",
        "            dataset.append((paragraph, summary)) # append the data to the list\n",
        "    return dataset"
      ]
    },
    {
      "cell_type": "code",
      "execution_count": 65,
      "metadata": {},
      "outputs": [],
      "source": [
        "#calculate the loss and accuracy of the model\n",
        "def calculate_loss_and_accuracy(model, data_loader):\n",
        "    total_loss = 0\n",
        "    total_correct = 0\n",
        "    total_samples = 0\n",
        "    for batch in data_loader: # iterate over the data loader to get the data in batches\n",
        "        input_ids = batch['input_ids']\n",
        "        attention_mask = batch['attention_mask']\n",
        "        labels = batch['labels'] \n",
        "\n",
        "        with torch.no_grad(): # disable the gradient calculation to save memory and time\n",
        "            outputs = model(input_ids=input_ids, attention_mask=attention_mask, labels=labels) # get the output of the model\n",
        "            loss = outputs.loss # get the loss of the model\n",
        "            logits = outputs.logits # get the logits of the model\n",
        "\n",
        "        total_loss += loss.item() # add the loss to the total loss\n",
        "        total_samples += input_ids.size(0) # add the number of samples to the total samples\n",
        "        total_correct += torch.sum(torch.argmax(logits, dim=2) == labels).item() # add the number of correct predictions to the total correct\n",
        "\n",
        "    return total_loss / total_samples, total_correct / total_samples # return the loss and accuracy of the model\n"
      ]
    },
    {
      "cell_type": "markdown",
      "metadata": {
        "id": "qvc2YUDJF5j3"
      },
      "source": [
        "## load dataset"
      ]
    },
    {
      "cell_type": "code",
      "execution_count": 62,
      "metadata": {
        "colab": {
          "base_uri": "https://localhost:8080/",
          "height": 240,
          "referenced_widgets": [
            "1526469b64f34cb39c9a5b0ccaeb5328",
            "da1b04d52aca491d856ed1702c12ffbd",
            "5e5f2d901c804e2fa71ce4ff056df4ae",
            "9a6417ad68c148d29472b614f0d978fc",
            "ea24ea5a0fb048da8397ff19d4fde3db",
            "4cbb03d7021f4b908d76b5d0637aad56",
            "f16a8073102d4b0b842504fc118113ca",
            "a3809673dcc64bd19a02de9000ec6927",
            "cbc557bfc4514314b05d3650081a59ef",
            "8564b0c0979e4912a77e5360fc740fc9",
            "3df848498d7644bcbf0ada773ba7115a",
            "c9675f0076da4996995aa50ab5ef35c4",
            "525b8a7275d0436ba2ad268c06914f39",
            "f5303702e7934e4c88f3dc45bea34428",
            "0d13375e1f684e828e37b7127b046492",
            "282881cc03d941a7bf05630a8882e374",
            "27511577589d4910968cd5d1c2bdf25f",
            "f20e210fe6d24f75998384f684b44b4f",
            "a71926fb7875478c80f80f25cc4dfdb0",
            "3639c04877c34afeab1128318e3a118d",
            "ea126a8161d64f449a81f9057093d085",
            "a97c6df7b30b4d5db7f7cf123d32ee3f"
          ]
        },
        "id": "z4JUiUyGF5j4",
        "outputId": "b392b26b-3076-4d1a-dd6b-7fb67e25fde7"
      },
      "outputs": [
        {
          "name": "stderr",
          "output_type": "stream",
          "text": [
            "c:\\Users\\youss\\.conda\\envs\\NLP\\lib\\site-packages\\huggingface_hub\\file_download.py:1132: FutureWarning: `resume_download` is deprecated and will be removed in version 1.0.0. Downloads always resume when possible. If you want to force a new download, use `force_download=True`.\n",
            "  warnings.warn(\n"
          ]
        }
      ],
      "source": [
        "labeled_dataset = load_labeled_dataset('./dataset/labeled_dataset.jsonl')\n",
        "\n",
        "dataset = LabeledDataset(labeled_dataset)\n"
      ]
    },
    {
      "cell_type": "markdown",
      "metadata": {
        "id": "4a6Rljd2F5j5"
      },
      "source": [
        "## Model"
      ]
    },
    {
      "cell_type": "markdown",
      "metadata": {},
      "source": [
        "The AutoConfig class from the transformers library is used to load the configuration of the 'AraBART' model. This configuration contains various details about the model, such as the number of layers it has, the number of attention heads, etc, By loading this configuration, you can modify it to suit your specific needs before initializing the model."
      ]
    },
    {
      "cell_type": "code",
      "execution_count": 19,
      "metadata": {
        "id": "T7E29CeHF5j5"
      },
      "outputs": [],
      "source": [
        "# Configure the model\n",
        "model_config = AutoConfig.from_pretrained('moussaKam/AraBART') \n",
        "model_config.num_labels = 2 \n",
        "# the model is being configured for a binary classification task. This means that the model will predict one of two possible outcomes for each input sequence. "
      ]
    },
    {
      "cell_type": "code",
      "execution_count": 20,
      "metadata": {
        "colab": {
          "base_uri": "https://localhost:8080/",
          "height": 49,
          "referenced_widgets": [
            "2cf0081b375b4cb28c53c61e46f8c336",
            "0617b58fd1ad42fc85eab7aeea94e0e7",
            "30c96b24ef27450799445b413e5b0725",
            "61bf157cf5e1404c979bfb6f2264b957",
            "ffa7a58fbe4f43ed9cd5f358727b478a",
            "46d185d88f9f421faad0208af5a20bfe",
            "26814b82f41c41da81a316768670dd5a",
            "974a8f2e8fe94572a23ead63aeafae3a",
            "6272c6926071488697809b6c78db0a63",
            "143b5eaede27401cb5611f624b61b46d",
            "40496e3eaa2e4bd0b176d1328047a909"
          ]
        },
        "id": "Lid1zIWAF5j6",
        "outputId": "0f8cf5c3-e356-48ed-92d7-e1f0d63ebd91"
      },
      "outputs": [],
      "source": [
        "# Create the model\n",
        "model = AutoModelForSeq2SeqLM.from_pretrained('moussaKam/AraBART', config=model_config)\n",
        "# the model is being loaded from the 'moussaKam/AraBART' checkpoint and the configuration is being set to the model_config object that we created earlier."
      ]
    },
    {
      "cell_type": "code",
      "execution_count": 21,
      "metadata": {
        "id": "imqr6wE1F5j6"
      },
      "outputs": [],
      "source": [
        "# training parameters for the model for the training process\n",
        "learning_rate = 1e-5\n",
        "num_epochs = 12\n",
        "batch_size = 8"
      ]
    },
    {
      "cell_type": "code",
      "execution_count": 22,
      "metadata": {
        "id": "Js2_CYejF5j6"
      },
      "outputs": [],
      "source": [
        "data_loader = DataLoader(dataset, batch_size=batch_size, shuffle=True)\n",
        "# It takes the dataset object that we created earlier and the batch size as input arguments. The shuffle parameter is set to True to shuffle the data before each epoch."
      ]
    },
    {
      "cell_type": "code",
      "execution_count": 23,
      "metadata": {
        "id": "dYFNn0b_F5j6"
      },
      "outputs": [],
      "source": [
        "optimizer = torch.optim.AdamW(model.parameters(), lr=learning_rate) #adam optimizer \n",
        "criterion = torch.nn.CrossEntropyLoss() #cross entropy loss function"
      ]
    },
    {
      "cell_type": "code",
      "execution_count": 24,
      "metadata": {
        "id": "-BYItgFoF5j7"
      },
      "outputs": [],
      "source": [
        "# Training loop\n",
        "for epoch in range(num_epochs):\n",
        "    model.train()\n",
        "    for batch in data_loader:\n",
        "        optimizer.zero_grad() # Reset the gradients to zero before the backward pass\n",
        "        input_ids = batch['input_ids'] \n",
        "        attention_mask = batch['attention_mask'] \n",
        "        labels = batch['labels']\n",
        "\n",
        "        outputs = model(input_ids=input_ids, attention_mask=attention_mask, labels=labels)\n",
        "        loss = outputs.loss # Compute the loss value\n",
        "        logits = outputs.logits # The predicted logits\n",
        "\n",
        "        loss.backward() # Compute the gradients of the loss with respect to the model parameters\n",
        "        optimizer.step() # Update the model parameters based on the gradients computed in the backward pass \"backpropagation\"\n",
        "\n",
        "\n",
        "    # Evaluate the model after each epoch\n",
        "    model.eval()"
      ]
    },
    {
      "cell_type": "code",
      "execution_count": 64,
      "metadata": {},
      "outputs": [
        {
          "name": "stdout",
          "output_type": "stream",
          "text": [
            "Loss: 0.3235, Accuracy: 61.5455\n"
          ]
        }
      ],
      "source": [
        "# Print the loss and accuracy of the model\n",
        "loss, accuracy = calculate_loss_and_accuracy(model, data_loader)\n",
        "print(f'Loss: {loss:.4f}, Accuracy: {accuracy:.4f}')"
      ]
    },
    {
      "cell_type": "code",
      "execution_count": 69,
      "metadata": {},
      "outputs": [],
      "source": [
        "# Save using dill\n",
        "with open('model.dill', 'wb') as f:\n",
        "    dill.dump(model, f)"
      ]
    },
    {
      "cell_type": "markdown",
      "metadata": {
        "id": "r6E5gfezF5j7"
      },
      "source": [
        "## Save the model\n"
      ]
    },
    {
      "cell_type": "code",
      "execution_count": 25,
      "metadata": {
        "colab": {
          "base_uri": "https://localhost:8080/"
        },
        "id": "qBDtI7GFF5j7",
        "outputId": "368f9bbf-e745-4dbe-b91d-15b484c79594"
      },
      "outputs": [
        {
          "name": "stderr",
          "output_type": "stream",
          "text": [
            "Some non-default generation parameters are set in the model config. These should go into a GenerationConfig file (https://huggingface.co/docs/transformers/generation_strategies#save-a-custom-decoding-strategy-with-your-model) instead. This warning will be raised to an exception in v4.41.\n",
            "Non-default generation parameters: {'early_stopping': True, 'num_beams': 4, 'no_repeat_ngram_size': 3, 'forced_eos_token_id': 2}\n"
          ]
        }
      ],
      "source": [
        "#save to model to device for further use\n",
        "model.save_pretrained('./Fine-tuned_summarization_model')"
      ]
    },
    {
      "cell_type": "markdown",
      "metadata": {},
      "source": [
        "## User testing and interface"
      ]
    },
    {
      "cell_type": "code",
      "execution_count": 6,
      "metadata": {
        "colab": {
          "base_uri": "https://localhost:8080/"
        },
        "id": "72lXpWV4RWpd",
        "outputId": "c70eda7f-5a42-4f9c-cf16-ebd751e09f62"
      },
      "outputs": [],
      "source": [
        "model_path = './Fine-tuned_summarization_model'\n",
        "model = AutoModelForSeq2SeqLM.from_pretrained(model_path) # load the model from the saved model path\n"
      ]
    },
    {
      "cell_type": "code",
      "execution_count": 5,
      "metadata": {
        "id": "7k4753iRRfSt"
      },
      "outputs": [
        {
          "name": "stderr",
          "output_type": "stream",
          "text": [
            "c:\\Users\\youss\\.conda\\envs\\NLP\\lib\\site-packages\\huggingface_hub\\file_download.py:1132: FutureWarning: `resume_download` is deprecated and will be removed in version 1.0.0. Downloads always resume when possible. If you want to force a new download, use `force_download=True`.\n",
            "  warnings.warn(\n"
          ]
        }
      ],
      "source": [
        "tokenizer = AutoTokenizer.from_pretrained('moussaKam/AraBART') # load the tokenizer of the model to encode the data to the model format "
      ]
    },
    {
      "cell_type": "code",
      "execution_count": 4,
      "metadata": {
        "id": "zJQMrdmjRiKV"
      },
      "outputs": [],
      "source": [
        "def generate_summary(paragraph): # this function is used to generate a summary for a given paragraph\n",
        "    # Encode the input paragraph\n",
        "    inputs = tokenizer.encode_plus(paragraph, truncation=True, padding='max_length', max_length=512, return_tensors='pt') # encode the paragraph to the model format \n",
        "    input_ids = inputs['input_ids']\n",
        "    attention_mask = inputs['attention_mask']\n",
        "\n",
        "    # Set the target length of the summary\n",
        "    paragraph_word_count = len(tokenizer.tokenize(paragraph))\n",
        "    target_length = int(0.47 * paragraph_word_count)  # Set the target length of the summary to 47% of the input paragraph length \n",
        "    # \"\"CAN BE CHANGED to any percentage you want to be the best for your data\"\"\n",
        "\n",
        "    model.eval() # Set the model to evaluation mode\n",
        "\n",
        "\n",
        "    with torch.no_grad(): # Disable gradient calculation to save memory and computation\n",
        "        outputs = model.generate(input_ids=input_ids, attention_mask=attention_mask, max_length=target_length) # Generate the summary\n",
        "    summary = tokenizer.decode(outputs[0], skip_special_tokens=True) # Decode the generated summary to text\n",
        "\n",
        "    return summary"
      ]
    },
    {
      "cell_type": "code",
      "execution_count": 34,
      "metadata": {
        "id": "nguDIeuCRlTL"
      },
      "outputs": [],
      "source": [
        "# def user_input_prediction():\n",
        "#     paragraph = input(\"Enter a paragraph: \")\n",
        "#     summary = generate_summary(paragraph)                                        # this function is used to get a paragraph from the user and generate a summary for it\n",
        "#     print(\"\\nGenerated Summary:\")\n",
        "#     print(summary)"
      ]
    },
    {
      "cell_type": "code",
      "execution_count": 36,
      "metadata": {
        "colab": {
          "base_uri": "https://localhost:8080/"
        },
        "id": "P0j9JXyoR7no",
        "outputId": "e367074d-fb8b-4db7-d9f6-1b823514b2f4"
      },
      "outputs": [
        {
          "name": "stdout",
          "output_type": "stream",
          "text": [
            "\n",
            "Generated Summary:\n",
            "في إحدى مدن البحر الأبيض المتوسط كانت هناك جزيرة جميلة تدعى الجزيرة الزمردية. كانت الجزيرة محاطة بمياه زرقاء صافية وتحيط بها شواطئ رملية بيضاء. على الجزيرة كانت هناك غابة كثيفة مليئة بالأشجار العالية والزهور البرية النادرة. كانت الغابة موطنا للعديد من الحيوانات البرية، بما في ذلك الطيور الملونة والفراشات الجميلة. في إحدى الليالي، اجتمعت مجموعة من الشباب حول نار المخيم في وسط الغابة. كانوا يستمعون إلى حكايات الجد الأكبر، الذي كان يسرد لهم قصصا عن ماضي الجزيرة وكيف كان أجدادهم يعيشون في انسجام مع الطبيعة. كانت هذه القصص تملأ قلوبهم بالفخر والأمل في المستقبل. كان هذا المهرجان فرصة للسكان للتواصل والتعبير عن شكرهم للطبيعة. على الرغم من الحياة البسيطة على الجزيرة، كان سكان الجزيرة يحبون الطبيعة ويحترمونها، فكانوا يتعاونون في كل شيء، من بناء المنازل إلى رعاية الأطفال وكبار السن. كان هناك احترام كبير للقيم والتقاليد التي توارثوها من أجدادهم. في\n"
          ]
        }
      ],
      "source": [
        "# user_input_prediction()"
      ]
    },
    {
      "cell_type": "code",
      "execution_count": 7,
      "metadata": {},
      "outputs": [
        {
          "name": "stdout",
          "output_type": "stream",
          "text": [
            "Running on local URL:  http://127.0.0.1:7861\n",
            "\n",
            "To create a public link, set `share=True` in `launch()`.\n"
          ]
        },
        {
          "data": {
            "text/html": [
              "<div><iframe src=\"http://127.0.0.1:7861/\" width=\"100%\" height=\"500\" allow=\"autoplay; camera; microphone; clipboard-read; clipboard-write;\" frameborder=\"0\" allowfullscreen></iframe></div>"
            ],
            "text/plain": [
              "<IPython.core.display.HTML object>"
            ]
          },
          "metadata": {},
          "output_type": "display_data"
        },
        {
          "data": {
            "text/plain": []
          },
          "execution_count": 7,
          "metadata": {},
          "output_type": "execute_result"
        }
      ],
      "source": [
        "# graido interface\n",
        "def summarize(paragraph): # this function is used to generate a summary for a given paragraph\n",
        "    summary = generate_summary(paragraph)\n",
        "    return summary\n",
        "\n",
        "iface = gr.Interface(fn=summarize, inputs=\"text\", outputs=\"text\")\n",
        "iface.launch()\n",
        "\n"
      ]
    }
  ],
  "metadata": {
    "accelerator": "GPU",
    "colab": {
      "gpuType": "T4",
      "provenance": []
    },
    "kernelspec": {
      "display_name": "Python 3",
      "name": "python3"
    },
    "language_info": {
      "codemirror_mode": {
        "name": "ipython",
        "version": 3
      },
      "file_extension": ".py",
      "mimetype": "text/x-python",
      "name": "python",
      "nbconvert_exporter": "python",
      "pygments_lexer": "ipython3",
      "version": "3.10.14"
    },
    "widgets": {
      "application/vnd.jupyter.widget-state+json": {
        "0617b58fd1ad42fc85eab7aeea94e0e7": {
          "model_module": "@jupyter-widgets/controls",
          "model_module_version": "1.5.0",
          "model_name": "HTMLModel",
          "state": {
            "_dom_classes": [],
            "_model_module": "@jupyter-widgets/controls",
            "_model_module_version": "1.5.0",
            "_model_name": "HTMLModel",
            "_view_count": null,
            "_view_module": "@jupyter-widgets/controls",
            "_view_module_version": "1.5.0",
            "_view_name": "HTMLView",
            "description": "",
            "description_tooltip": null,
            "layout": "IPY_MODEL_46d185d88f9f421faad0208af5a20bfe",
            "placeholder": "​",
            "style": "IPY_MODEL_26814b82f41c41da81a316768670dd5a",
            "value": "pytorch_model.bin: 100%"
          }
        },
        "0d13375e1f684e828e37b7127b046492": {
          "model_module": "@jupyter-widgets/controls",
          "model_module_version": "1.5.0",
          "model_name": "HTMLModel",
          "state": {
            "_dom_classes": [],
            "_model_module": "@jupyter-widgets/controls",
            "_model_module_version": "1.5.0",
            "_model_name": "HTMLModel",
            "_view_count": null,
            "_view_module": "@jupyter-widgets/controls",
            "_view_module_version": "1.5.0",
            "_view_name": "HTMLView",
            "description": "",
            "description_tooltip": null,
            "layout": "IPY_MODEL_ea126a8161d64f449a81f9057093d085",
            "placeholder": "​",
            "style": "IPY_MODEL_a97c6df7b30b4d5db7f7cf123d32ee3f",
            "value": " 1.32M/1.32M [00:00&lt;00:00, 25.5MB/s]"
          }
        },
        "143b5eaede27401cb5611f624b61b46d": {
          "model_module": "@jupyter-widgets/base",
          "model_module_version": "1.2.0",
          "model_name": "LayoutModel",
          "state": {
            "_model_module": "@jupyter-widgets/base",
            "_model_module_version": "1.2.0",
            "_model_name": "LayoutModel",
            "_view_count": null,
            "_view_module": "@jupyter-widgets/base",
            "_view_module_version": "1.2.0",
            "_view_name": "LayoutView",
            "align_content": null,
            "align_items": null,
            "align_self": null,
            "border": null,
            "bottom": null,
            "display": null,
            "flex": null,
            "flex_flow": null,
            "grid_area": null,
            "grid_auto_columns": null,
            "grid_auto_flow": null,
            "grid_auto_rows": null,
            "grid_column": null,
            "grid_gap": null,
            "grid_row": null,
            "grid_template_areas": null,
            "grid_template_columns": null,
            "grid_template_rows": null,
            "height": null,
            "justify_content": null,
            "justify_items": null,
            "left": null,
            "margin": null,
            "max_height": null,
            "max_width": null,
            "min_height": null,
            "min_width": null,
            "object_fit": null,
            "object_position": null,
            "order": null,
            "overflow": null,
            "overflow_x": null,
            "overflow_y": null,
            "padding": null,
            "right": null,
            "top": null,
            "visibility": null,
            "width": null
          }
        },
        "1526469b64f34cb39c9a5b0ccaeb5328": {
          "model_module": "@jupyter-widgets/controls",
          "model_module_version": "1.5.0",
          "model_name": "HBoxModel",
          "state": {
            "_dom_classes": [],
            "_model_module": "@jupyter-widgets/controls",
            "_model_module_version": "1.5.0",
            "_model_name": "HBoxModel",
            "_view_count": null,
            "_view_module": "@jupyter-widgets/controls",
            "_view_module_version": "1.5.0",
            "_view_name": "HBoxView",
            "box_style": "",
            "children": [
              "IPY_MODEL_da1b04d52aca491d856ed1702c12ffbd",
              "IPY_MODEL_5e5f2d901c804e2fa71ce4ff056df4ae",
              "IPY_MODEL_9a6417ad68c148d29472b614f0d978fc"
            ],
            "layout": "IPY_MODEL_ea24ea5a0fb048da8397ff19d4fde3db"
          }
        },
        "26814b82f41c41da81a316768670dd5a": {
          "model_module": "@jupyter-widgets/controls",
          "model_module_version": "1.5.0",
          "model_name": "DescriptionStyleModel",
          "state": {
            "_model_module": "@jupyter-widgets/controls",
            "_model_module_version": "1.5.0",
            "_model_name": "DescriptionStyleModel",
            "_view_count": null,
            "_view_module": "@jupyter-widgets/base",
            "_view_module_version": "1.2.0",
            "_view_name": "StyleView",
            "description_width": ""
          }
        },
        "27511577589d4910968cd5d1c2bdf25f": {
          "model_module": "@jupyter-widgets/base",
          "model_module_version": "1.2.0",
          "model_name": "LayoutModel",
          "state": {
            "_model_module": "@jupyter-widgets/base",
            "_model_module_version": "1.2.0",
            "_model_name": "LayoutModel",
            "_view_count": null,
            "_view_module": "@jupyter-widgets/base",
            "_view_module_version": "1.2.0",
            "_view_name": "LayoutView",
            "align_content": null,
            "align_items": null,
            "align_self": null,
            "border": null,
            "bottom": null,
            "display": null,
            "flex": null,
            "flex_flow": null,
            "grid_area": null,
            "grid_auto_columns": null,
            "grid_auto_flow": null,
            "grid_auto_rows": null,
            "grid_column": null,
            "grid_gap": null,
            "grid_row": null,
            "grid_template_areas": null,
            "grid_template_columns": null,
            "grid_template_rows": null,
            "height": null,
            "justify_content": null,
            "justify_items": null,
            "left": null,
            "margin": null,
            "max_height": null,
            "max_width": null,
            "min_height": null,
            "min_width": null,
            "object_fit": null,
            "object_position": null,
            "order": null,
            "overflow": null,
            "overflow_x": null,
            "overflow_y": null,
            "padding": null,
            "right": null,
            "top": null,
            "visibility": null,
            "width": null
          }
        },
        "282881cc03d941a7bf05630a8882e374": {
          "model_module": "@jupyter-widgets/base",
          "model_module_version": "1.2.0",
          "model_name": "LayoutModel",
          "state": {
            "_model_module": "@jupyter-widgets/base",
            "_model_module_version": "1.2.0",
            "_model_name": "LayoutModel",
            "_view_count": null,
            "_view_module": "@jupyter-widgets/base",
            "_view_module_version": "1.2.0",
            "_view_name": "LayoutView",
            "align_content": null,
            "align_items": null,
            "align_self": null,
            "border": null,
            "bottom": null,
            "display": null,
            "flex": null,
            "flex_flow": null,
            "grid_area": null,
            "grid_auto_columns": null,
            "grid_auto_flow": null,
            "grid_auto_rows": null,
            "grid_column": null,
            "grid_gap": null,
            "grid_row": null,
            "grid_template_areas": null,
            "grid_template_columns": null,
            "grid_template_rows": null,
            "height": null,
            "justify_content": null,
            "justify_items": null,
            "left": null,
            "margin": null,
            "max_height": null,
            "max_width": null,
            "min_height": null,
            "min_width": null,
            "object_fit": null,
            "object_position": null,
            "order": null,
            "overflow": null,
            "overflow_x": null,
            "overflow_y": null,
            "padding": null,
            "right": null,
            "top": null,
            "visibility": null,
            "width": null
          }
        },
        "2cf0081b375b4cb28c53c61e46f8c336": {
          "model_module": "@jupyter-widgets/controls",
          "model_module_version": "1.5.0",
          "model_name": "HBoxModel",
          "state": {
            "_dom_classes": [],
            "_model_module": "@jupyter-widgets/controls",
            "_model_module_version": "1.5.0",
            "_model_name": "HBoxModel",
            "_view_count": null,
            "_view_module": "@jupyter-widgets/controls",
            "_view_module_version": "1.5.0",
            "_view_name": "HBoxView",
            "box_style": "",
            "children": [
              "IPY_MODEL_0617b58fd1ad42fc85eab7aeea94e0e7",
              "IPY_MODEL_30c96b24ef27450799445b413e5b0725",
              "IPY_MODEL_61bf157cf5e1404c979bfb6f2264b957"
            ],
            "layout": "IPY_MODEL_ffa7a58fbe4f43ed9cd5f358727b478a"
          }
        },
        "30c96b24ef27450799445b413e5b0725": {
          "model_module": "@jupyter-widgets/controls",
          "model_module_version": "1.5.0",
          "model_name": "FloatProgressModel",
          "state": {
            "_dom_classes": [],
            "_model_module": "@jupyter-widgets/controls",
            "_model_module_version": "1.5.0",
            "_model_name": "FloatProgressModel",
            "_view_count": null,
            "_view_module": "@jupyter-widgets/controls",
            "_view_module_version": "1.5.0",
            "_view_name": "ProgressView",
            "bar_style": "success",
            "description": "",
            "description_tooltip": null,
            "layout": "IPY_MODEL_974a8f2e8fe94572a23ead63aeafae3a",
            "max": 556983662,
            "min": 0,
            "orientation": "horizontal",
            "style": "IPY_MODEL_6272c6926071488697809b6c78db0a63",
            "value": 556983662
          }
        },
        "3639c04877c34afeab1128318e3a118d": {
          "model_module": "@jupyter-widgets/controls",
          "model_module_version": "1.5.0",
          "model_name": "ProgressStyleModel",
          "state": {
            "_model_module": "@jupyter-widgets/controls",
            "_model_module_version": "1.5.0",
            "_model_name": "ProgressStyleModel",
            "_view_count": null,
            "_view_module": "@jupyter-widgets/base",
            "_view_module_version": "1.2.0",
            "_view_name": "StyleView",
            "bar_color": null,
            "description_width": ""
          }
        },
        "3df848498d7644bcbf0ada773ba7115a": {
          "model_module": "@jupyter-widgets/controls",
          "model_module_version": "1.5.0",
          "model_name": "DescriptionStyleModel",
          "state": {
            "_model_module": "@jupyter-widgets/controls",
            "_model_module_version": "1.5.0",
            "_model_name": "DescriptionStyleModel",
            "_view_count": null,
            "_view_module": "@jupyter-widgets/base",
            "_view_module_version": "1.2.0",
            "_view_name": "StyleView",
            "description_width": ""
          }
        },
        "40496e3eaa2e4bd0b176d1328047a909": {
          "model_module": "@jupyter-widgets/controls",
          "model_module_version": "1.5.0",
          "model_name": "DescriptionStyleModel",
          "state": {
            "_model_module": "@jupyter-widgets/controls",
            "_model_module_version": "1.5.0",
            "_model_name": "DescriptionStyleModel",
            "_view_count": null,
            "_view_module": "@jupyter-widgets/base",
            "_view_module_version": "1.2.0",
            "_view_name": "StyleView",
            "description_width": ""
          }
        },
        "46d185d88f9f421faad0208af5a20bfe": {
          "model_module": "@jupyter-widgets/base",
          "model_module_version": "1.2.0",
          "model_name": "LayoutModel",
          "state": {
            "_model_module": "@jupyter-widgets/base",
            "_model_module_version": "1.2.0",
            "_model_name": "LayoutModel",
            "_view_count": null,
            "_view_module": "@jupyter-widgets/base",
            "_view_module_version": "1.2.0",
            "_view_name": "LayoutView",
            "align_content": null,
            "align_items": null,
            "align_self": null,
            "border": null,
            "bottom": null,
            "display": null,
            "flex": null,
            "flex_flow": null,
            "grid_area": null,
            "grid_auto_columns": null,
            "grid_auto_flow": null,
            "grid_auto_rows": null,
            "grid_column": null,
            "grid_gap": null,
            "grid_row": null,
            "grid_template_areas": null,
            "grid_template_columns": null,
            "grid_template_rows": null,
            "height": null,
            "justify_content": null,
            "justify_items": null,
            "left": null,
            "margin": null,
            "max_height": null,
            "max_width": null,
            "min_height": null,
            "min_width": null,
            "object_fit": null,
            "object_position": null,
            "order": null,
            "overflow": null,
            "overflow_x": null,
            "overflow_y": null,
            "padding": null,
            "right": null,
            "top": null,
            "visibility": null,
            "width": null
          }
        },
        "4cbb03d7021f4b908d76b5d0637aad56": {
          "model_module": "@jupyter-widgets/base",
          "model_module_version": "1.2.0",
          "model_name": "LayoutModel",
          "state": {
            "_model_module": "@jupyter-widgets/base",
            "_model_module_version": "1.2.0",
            "_model_name": "LayoutModel",
            "_view_count": null,
            "_view_module": "@jupyter-widgets/base",
            "_view_module_version": "1.2.0",
            "_view_name": "LayoutView",
            "align_content": null,
            "align_items": null,
            "align_self": null,
            "border": null,
            "bottom": null,
            "display": null,
            "flex": null,
            "flex_flow": null,
            "grid_area": null,
            "grid_auto_columns": null,
            "grid_auto_flow": null,
            "grid_auto_rows": null,
            "grid_column": null,
            "grid_gap": null,
            "grid_row": null,
            "grid_template_areas": null,
            "grid_template_columns": null,
            "grid_template_rows": null,
            "height": null,
            "justify_content": null,
            "justify_items": null,
            "left": null,
            "margin": null,
            "max_height": null,
            "max_width": null,
            "min_height": null,
            "min_width": null,
            "object_fit": null,
            "object_position": null,
            "order": null,
            "overflow": null,
            "overflow_x": null,
            "overflow_y": null,
            "padding": null,
            "right": null,
            "top": null,
            "visibility": null,
            "width": null
          }
        },
        "525b8a7275d0436ba2ad268c06914f39": {
          "model_module": "@jupyter-widgets/controls",
          "model_module_version": "1.5.0",
          "model_name": "HTMLModel",
          "state": {
            "_dom_classes": [],
            "_model_module": "@jupyter-widgets/controls",
            "_model_module_version": "1.5.0",
            "_model_name": "HTMLModel",
            "_view_count": null,
            "_view_module": "@jupyter-widgets/controls",
            "_view_module_version": "1.5.0",
            "_view_name": "HTMLView",
            "description": "",
            "description_tooltip": null,
            "layout": "IPY_MODEL_27511577589d4910968cd5d1c2bdf25f",
            "placeholder": "​",
            "style": "IPY_MODEL_f20e210fe6d24f75998384f684b44b4f",
            "value": "sentencepiece.bpe.model: 100%"
          }
        },
        "5e5f2d901c804e2fa71ce4ff056df4ae": {
          "model_module": "@jupyter-widgets/controls",
          "model_module_version": "1.5.0",
          "model_name": "FloatProgressModel",
          "state": {
            "_dom_classes": [],
            "_model_module": "@jupyter-widgets/controls",
            "_model_module_version": "1.5.0",
            "_model_name": "FloatProgressModel",
            "_view_count": null,
            "_view_module": "@jupyter-widgets/controls",
            "_view_module_version": "1.5.0",
            "_view_name": "ProgressView",
            "bar_style": "success",
            "description": "",
            "description_tooltip": null,
            "layout": "IPY_MODEL_a3809673dcc64bd19a02de9000ec6927",
            "max": 1392,
            "min": 0,
            "orientation": "horizontal",
            "style": "IPY_MODEL_cbc557bfc4514314b05d3650081a59ef",
            "value": 1392
          }
        },
        "61bf157cf5e1404c979bfb6f2264b957": {
          "model_module": "@jupyter-widgets/controls",
          "model_module_version": "1.5.0",
          "model_name": "HTMLModel",
          "state": {
            "_dom_classes": [],
            "_model_module": "@jupyter-widgets/controls",
            "_model_module_version": "1.5.0",
            "_model_name": "HTMLModel",
            "_view_count": null,
            "_view_module": "@jupyter-widgets/controls",
            "_view_module_version": "1.5.0",
            "_view_name": "HTMLView",
            "description": "",
            "description_tooltip": null,
            "layout": "IPY_MODEL_143b5eaede27401cb5611f624b61b46d",
            "placeholder": "​",
            "style": "IPY_MODEL_40496e3eaa2e4bd0b176d1328047a909",
            "value": " 557M/557M [00:02&lt;00:00, 210MB/s]"
          }
        },
        "6272c6926071488697809b6c78db0a63": {
          "model_module": "@jupyter-widgets/controls",
          "model_module_version": "1.5.0",
          "model_name": "ProgressStyleModel",
          "state": {
            "_model_module": "@jupyter-widgets/controls",
            "_model_module_version": "1.5.0",
            "_model_name": "ProgressStyleModel",
            "_view_count": null,
            "_view_module": "@jupyter-widgets/base",
            "_view_module_version": "1.2.0",
            "_view_name": "StyleView",
            "bar_color": null,
            "description_width": ""
          }
        },
        "8564b0c0979e4912a77e5360fc740fc9": {
          "model_module": "@jupyter-widgets/base",
          "model_module_version": "1.2.0",
          "model_name": "LayoutModel",
          "state": {
            "_model_module": "@jupyter-widgets/base",
            "_model_module_version": "1.2.0",
            "_model_name": "LayoutModel",
            "_view_count": null,
            "_view_module": "@jupyter-widgets/base",
            "_view_module_version": "1.2.0",
            "_view_name": "LayoutView",
            "align_content": null,
            "align_items": null,
            "align_self": null,
            "border": null,
            "bottom": null,
            "display": null,
            "flex": null,
            "flex_flow": null,
            "grid_area": null,
            "grid_auto_columns": null,
            "grid_auto_flow": null,
            "grid_auto_rows": null,
            "grid_column": null,
            "grid_gap": null,
            "grid_row": null,
            "grid_template_areas": null,
            "grid_template_columns": null,
            "grid_template_rows": null,
            "height": null,
            "justify_content": null,
            "justify_items": null,
            "left": null,
            "margin": null,
            "max_height": null,
            "max_width": null,
            "min_height": null,
            "min_width": null,
            "object_fit": null,
            "object_position": null,
            "order": null,
            "overflow": null,
            "overflow_x": null,
            "overflow_y": null,
            "padding": null,
            "right": null,
            "top": null,
            "visibility": null,
            "width": null
          }
        },
        "974a8f2e8fe94572a23ead63aeafae3a": {
          "model_module": "@jupyter-widgets/base",
          "model_module_version": "1.2.0",
          "model_name": "LayoutModel",
          "state": {
            "_model_module": "@jupyter-widgets/base",
            "_model_module_version": "1.2.0",
            "_model_name": "LayoutModel",
            "_view_count": null,
            "_view_module": "@jupyter-widgets/base",
            "_view_module_version": "1.2.0",
            "_view_name": "LayoutView",
            "align_content": null,
            "align_items": null,
            "align_self": null,
            "border": null,
            "bottom": null,
            "display": null,
            "flex": null,
            "flex_flow": null,
            "grid_area": null,
            "grid_auto_columns": null,
            "grid_auto_flow": null,
            "grid_auto_rows": null,
            "grid_column": null,
            "grid_gap": null,
            "grid_row": null,
            "grid_template_areas": null,
            "grid_template_columns": null,
            "grid_template_rows": null,
            "height": null,
            "justify_content": null,
            "justify_items": null,
            "left": null,
            "margin": null,
            "max_height": null,
            "max_width": null,
            "min_height": null,
            "min_width": null,
            "object_fit": null,
            "object_position": null,
            "order": null,
            "overflow": null,
            "overflow_x": null,
            "overflow_y": null,
            "padding": null,
            "right": null,
            "top": null,
            "visibility": null,
            "width": null
          }
        },
        "9a6417ad68c148d29472b614f0d978fc": {
          "model_module": "@jupyter-widgets/controls",
          "model_module_version": "1.5.0",
          "model_name": "HTMLModel",
          "state": {
            "_dom_classes": [],
            "_model_module": "@jupyter-widgets/controls",
            "_model_module_version": "1.5.0",
            "_model_name": "HTMLModel",
            "_view_count": null,
            "_view_module": "@jupyter-widgets/controls",
            "_view_module_version": "1.5.0",
            "_view_name": "HTMLView",
            "description": "",
            "description_tooltip": null,
            "layout": "IPY_MODEL_8564b0c0979e4912a77e5360fc740fc9",
            "placeholder": "​",
            "style": "IPY_MODEL_3df848498d7644bcbf0ada773ba7115a",
            "value": " 1.39k/1.39k [00:00&lt;00:00, 86.2kB/s]"
          }
        },
        "a3809673dcc64bd19a02de9000ec6927": {
          "model_module": "@jupyter-widgets/base",
          "model_module_version": "1.2.0",
          "model_name": "LayoutModel",
          "state": {
            "_model_module": "@jupyter-widgets/base",
            "_model_module_version": "1.2.0",
            "_model_name": "LayoutModel",
            "_view_count": null,
            "_view_module": "@jupyter-widgets/base",
            "_view_module_version": "1.2.0",
            "_view_name": "LayoutView",
            "align_content": null,
            "align_items": null,
            "align_self": null,
            "border": null,
            "bottom": null,
            "display": null,
            "flex": null,
            "flex_flow": null,
            "grid_area": null,
            "grid_auto_columns": null,
            "grid_auto_flow": null,
            "grid_auto_rows": null,
            "grid_column": null,
            "grid_gap": null,
            "grid_row": null,
            "grid_template_areas": null,
            "grid_template_columns": null,
            "grid_template_rows": null,
            "height": null,
            "justify_content": null,
            "justify_items": null,
            "left": null,
            "margin": null,
            "max_height": null,
            "max_width": null,
            "min_height": null,
            "min_width": null,
            "object_fit": null,
            "object_position": null,
            "order": null,
            "overflow": null,
            "overflow_x": null,
            "overflow_y": null,
            "padding": null,
            "right": null,
            "top": null,
            "visibility": null,
            "width": null
          }
        },
        "a71926fb7875478c80f80f25cc4dfdb0": {
          "model_module": "@jupyter-widgets/base",
          "model_module_version": "1.2.0",
          "model_name": "LayoutModel",
          "state": {
            "_model_module": "@jupyter-widgets/base",
            "_model_module_version": "1.2.0",
            "_model_name": "LayoutModel",
            "_view_count": null,
            "_view_module": "@jupyter-widgets/base",
            "_view_module_version": "1.2.0",
            "_view_name": "LayoutView",
            "align_content": null,
            "align_items": null,
            "align_self": null,
            "border": null,
            "bottom": null,
            "display": null,
            "flex": null,
            "flex_flow": null,
            "grid_area": null,
            "grid_auto_columns": null,
            "grid_auto_flow": null,
            "grid_auto_rows": null,
            "grid_column": null,
            "grid_gap": null,
            "grid_row": null,
            "grid_template_areas": null,
            "grid_template_columns": null,
            "grid_template_rows": null,
            "height": null,
            "justify_content": null,
            "justify_items": null,
            "left": null,
            "margin": null,
            "max_height": null,
            "max_width": null,
            "min_height": null,
            "min_width": null,
            "object_fit": null,
            "object_position": null,
            "order": null,
            "overflow": null,
            "overflow_x": null,
            "overflow_y": null,
            "padding": null,
            "right": null,
            "top": null,
            "visibility": null,
            "width": null
          }
        },
        "a97c6df7b30b4d5db7f7cf123d32ee3f": {
          "model_module": "@jupyter-widgets/controls",
          "model_module_version": "1.5.0",
          "model_name": "DescriptionStyleModel",
          "state": {
            "_model_module": "@jupyter-widgets/controls",
            "_model_module_version": "1.5.0",
            "_model_name": "DescriptionStyleModel",
            "_view_count": null,
            "_view_module": "@jupyter-widgets/base",
            "_view_module_version": "1.2.0",
            "_view_name": "StyleView",
            "description_width": ""
          }
        },
        "c9675f0076da4996995aa50ab5ef35c4": {
          "model_module": "@jupyter-widgets/controls",
          "model_module_version": "1.5.0",
          "model_name": "HBoxModel",
          "state": {
            "_dom_classes": [],
            "_model_module": "@jupyter-widgets/controls",
            "_model_module_version": "1.5.0",
            "_model_name": "HBoxModel",
            "_view_count": null,
            "_view_module": "@jupyter-widgets/controls",
            "_view_module_version": "1.5.0",
            "_view_name": "HBoxView",
            "box_style": "",
            "children": [
              "IPY_MODEL_525b8a7275d0436ba2ad268c06914f39",
              "IPY_MODEL_f5303702e7934e4c88f3dc45bea34428",
              "IPY_MODEL_0d13375e1f684e828e37b7127b046492"
            ],
            "layout": "IPY_MODEL_282881cc03d941a7bf05630a8882e374"
          }
        },
        "cbc557bfc4514314b05d3650081a59ef": {
          "model_module": "@jupyter-widgets/controls",
          "model_module_version": "1.5.0",
          "model_name": "ProgressStyleModel",
          "state": {
            "_model_module": "@jupyter-widgets/controls",
            "_model_module_version": "1.5.0",
            "_model_name": "ProgressStyleModel",
            "_view_count": null,
            "_view_module": "@jupyter-widgets/base",
            "_view_module_version": "1.2.0",
            "_view_name": "StyleView",
            "bar_color": null,
            "description_width": ""
          }
        },
        "da1b04d52aca491d856ed1702c12ffbd": {
          "model_module": "@jupyter-widgets/controls",
          "model_module_version": "1.5.0",
          "model_name": "HTMLModel",
          "state": {
            "_dom_classes": [],
            "_model_module": "@jupyter-widgets/controls",
            "_model_module_version": "1.5.0",
            "_model_name": "HTMLModel",
            "_view_count": null,
            "_view_module": "@jupyter-widgets/controls",
            "_view_module_version": "1.5.0",
            "_view_name": "HTMLView",
            "description": "",
            "description_tooltip": null,
            "layout": "IPY_MODEL_4cbb03d7021f4b908d76b5d0637aad56",
            "placeholder": "​",
            "style": "IPY_MODEL_f16a8073102d4b0b842504fc118113ca",
            "value": "config.json: 100%"
          }
        },
        "ea126a8161d64f449a81f9057093d085": {
          "model_module": "@jupyter-widgets/base",
          "model_module_version": "1.2.0",
          "model_name": "LayoutModel",
          "state": {
            "_model_module": "@jupyter-widgets/base",
            "_model_module_version": "1.2.0",
            "_model_name": "LayoutModel",
            "_view_count": null,
            "_view_module": "@jupyter-widgets/base",
            "_view_module_version": "1.2.0",
            "_view_name": "LayoutView",
            "align_content": null,
            "align_items": null,
            "align_self": null,
            "border": null,
            "bottom": null,
            "display": null,
            "flex": null,
            "flex_flow": null,
            "grid_area": null,
            "grid_auto_columns": null,
            "grid_auto_flow": null,
            "grid_auto_rows": null,
            "grid_column": null,
            "grid_gap": null,
            "grid_row": null,
            "grid_template_areas": null,
            "grid_template_columns": null,
            "grid_template_rows": null,
            "height": null,
            "justify_content": null,
            "justify_items": null,
            "left": null,
            "margin": null,
            "max_height": null,
            "max_width": null,
            "min_height": null,
            "min_width": null,
            "object_fit": null,
            "object_position": null,
            "order": null,
            "overflow": null,
            "overflow_x": null,
            "overflow_y": null,
            "padding": null,
            "right": null,
            "top": null,
            "visibility": null,
            "width": null
          }
        },
        "ea24ea5a0fb048da8397ff19d4fde3db": {
          "model_module": "@jupyter-widgets/base",
          "model_module_version": "1.2.0",
          "model_name": "LayoutModel",
          "state": {
            "_model_module": "@jupyter-widgets/base",
            "_model_module_version": "1.2.0",
            "_model_name": "LayoutModel",
            "_view_count": null,
            "_view_module": "@jupyter-widgets/base",
            "_view_module_version": "1.2.0",
            "_view_name": "LayoutView",
            "align_content": null,
            "align_items": null,
            "align_self": null,
            "border": null,
            "bottom": null,
            "display": null,
            "flex": null,
            "flex_flow": null,
            "grid_area": null,
            "grid_auto_columns": null,
            "grid_auto_flow": null,
            "grid_auto_rows": null,
            "grid_column": null,
            "grid_gap": null,
            "grid_row": null,
            "grid_template_areas": null,
            "grid_template_columns": null,
            "grid_template_rows": null,
            "height": null,
            "justify_content": null,
            "justify_items": null,
            "left": null,
            "margin": null,
            "max_height": null,
            "max_width": null,
            "min_height": null,
            "min_width": null,
            "object_fit": null,
            "object_position": null,
            "order": null,
            "overflow": null,
            "overflow_x": null,
            "overflow_y": null,
            "padding": null,
            "right": null,
            "top": null,
            "visibility": null,
            "width": null
          }
        },
        "f16a8073102d4b0b842504fc118113ca": {
          "model_module": "@jupyter-widgets/controls",
          "model_module_version": "1.5.0",
          "model_name": "DescriptionStyleModel",
          "state": {
            "_model_module": "@jupyter-widgets/controls",
            "_model_module_version": "1.5.0",
            "_model_name": "DescriptionStyleModel",
            "_view_count": null,
            "_view_module": "@jupyter-widgets/base",
            "_view_module_version": "1.2.0",
            "_view_name": "StyleView",
            "description_width": ""
          }
        },
        "f20e210fe6d24f75998384f684b44b4f": {
          "model_module": "@jupyter-widgets/controls",
          "model_module_version": "1.5.0",
          "model_name": "DescriptionStyleModel",
          "state": {
            "_model_module": "@jupyter-widgets/controls",
            "_model_module_version": "1.5.0",
            "_model_name": "DescriptionStyleModel",
            "_view_count": null,
            "_view_module": "@jupyter-widgets/base",
            "_view_module_version": "1.2.0",
            "_view_name": "StyleView",
            "description_width": ""
          }
        },
        "f5303702e7934e4c88f3dc45bea34428": {
          "model_module": "@jupyter-widgets/controls",
          "model_module_version": "1.5.0",
          "model_name": "FloatProgressModel",
          "state": {
            "_dom_classes": [],
            "_model_module": "@jupyter-widgets/controls",
            "_model_module_version": "1.5.0",
            "_model_name": "FloatProgressModel",
            "_view_count": null,
            "_view_module": "@jupyter-widgets/controls",
            "_view_module_version": "1.5.0",
            "_view_name": "ProgressView",
            "bar_style": "success",
            "description": "",
            "description_tooltip": null,
            "layout": "IPY_MODEL_a71926fb7875478c80f80f25cc4dfdb0",
            "max": 1315170,
            "min": 0,
            "orientation": "horizontal",
            "style": "IPY_MODEL_3639c04877c34afeab1128318e3a118d",
            "value": 1315170
          }
        },
        "ffa7a58fbe4f43ed9cd5f358727b478a": {
          "model_module": "@jupyter-widgets/base",
          "model_module_version": "1.2.0",
          "model_name": "LayoutModel",
          "state": {
            "_model_module": "@jupyter-widgets/base",
            "_model_module_version": "1.2.0",
            "_model_name": "LayoutModel",
            "_view_count": null,
            "_view_module": "@jupyter-widgets/base",
            "_view_module_version": "1.2.0",
            "_view_name": "LayoutView",
            "align_content": null,
            "align_items": null,
            "align_self": null,
            "border": null,
            "bottom": null,
            "display": null,
            "flex": null,
            "flex_flow": null,
            "grid_area": null,
            "grid_auto_columns": null,
            "grid_auto_flow": null,
            "grid_auto_rows": null,
            "grid_column": null,
            "grid_gap": null,
            "grid_row": null,
            "grid_template_areas": null,
            "grid_template_columns": null,
            "grid_template_rows": null,
            "height": null,
            "justify_content": null,
            "justify_items": null,
            "left": null,
            "margin": null,
            "max_height": null,
            "max_width": null,
            "min_height": null,
            "min_width": null,
            "object_fit": null,
            "object_position": null,
            "order": null,
            "overflow": null,
            "overflow_x": null,
            "overflow_y": null,
            "padding": null,
            "right": null,
            "top": null,
            "visibility": null,
            "width": null
          }
        }
      }
    }
  },
  "nbformat": 4,
  "nbformat_minor": 0
}
